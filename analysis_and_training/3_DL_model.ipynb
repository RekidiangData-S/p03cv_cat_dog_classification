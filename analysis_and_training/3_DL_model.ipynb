{
 "cells": [
  {
   "cell_type": "markdown",
   "metadata": {},
   "source": [
    "# Diabetes Prediction <=> DL-Model\n",
    "\n",
    "### Load preprocessed data, Build,  Train, Evaluate Models and Deployement"
   ]
  },
  {
   "cell_type": "code",
   "execution_count": 1,
   "metadata": {},
   "outputs": [
    {
     "name": "stdout",
     "output_type": "stream",
     "text": [
      "Libraries Imported ..\n"
     ]
    }
   ],
   "source": [
    "## basic package\n",
    "import pandas as pd\n",
    "import numpy as np\n",
    "import pickle\n",
    "\n",
    "## Customized Function\n",
    "from helpers import *\n",
    "\n",
    "## Magic\n",
    "%matplotlib inline\n",
    "print(\"Libraries Imported ..\")"
   ]
  },
  {
   "cell_type": "markdown",
   "metadata": {},
   "source": [
    "## 1. Load Preprocessed Dataset"
   ]
  },
  {
   "cell_type": "code",
   "execution_count": 2,
   "metadata": {},
   "outputs": [
    {
     "name": "stdout",
     "output_type": "stream",
     "text": [
      "raw_data Shape     : (768, 9)\n",
      "cleaned_data Shape : (768, 9)\n",
      "scaled_data Shape  : (768, 9)\n"
     ]
    }
   ],
   "source": [
    "raw_data = pd.read_csv(\"../data/diabetes.csv\")\n",
    "cleaned_data = pd.read_csv(\"../data/clean_data.csv\")\n",
    "scaled_data = pd.read_csv(\"../data/scaled_data.csv\")\n",
    "\n",
    "print(\"raw_data Shape     :\",raw_data.shape)\n",
    "print(\"cleaned_data Shape :\",cleaned_data.shape)\n",
    "print(\"scaled_data Shape  :\",scaled_data.shape)"
   ]
  },
  {
   "cell_type": "markdown",
   "metadata": {},
   "source": [
    "### First rows raw data"
   ]
  },
  {
   "cell_type": "code",
   "execution_count": 3,
   "metadata": {},
   "outputs": [
    {
     "data": {
      "text/html": [
       "<div>\n",
       "<style scoped>\n",
       "    .dataframe tbody tr th:only-of-type {\n",
       "        vertical-align: middle;\n",
       "    }\n",
       "\n",
       "    .dataframe tbody tr th {\n",
       "        vertical-align: top;\n",
       "    }\n",
       "\n",
       "    .dataframe thead th {\n",
       "        text-align: right;\n",
       "    }\n",
       "</style>\n",
       "<table border=\"1\" class=\"dataframe\">\n",
       "  <thead>\n",
       "    <tr style=\"text-align: right;\">\n",
       "      <th></th>\n",
       "      <th>Pregnancies</th>\n",
       "      <th>Glucose</th>\n",
       "      <th>BloodPressure</th>\n",
       "      <th>SkinThickness</th>\n",
       "      <th>Insulin</th>\n",
       "      <th>BMI</th>\n",
       "      <th>DiabetesPedigreeFunction</th>\n",
       "      <th>Age</th>\n",
       "      <th>Outcome</th>\n",
       "    </tr>\n",
       "  </thead>\n",
       "  <tbody>\n",
       "    <tr>\n",
       "      <th>0</th>\n",
       "      <td>6</td>\n",
       "      <td>148</td>\n",
       "      <td>72</td>\n",
       "      <td>35</td>\n",
       "      <td>0</td>\n",
       "      <td>33.6</td>\n",
       "      <td>0.627</td>\n",
       "      <td>50</td>\n",
       "      <td>1</td>\n",
       "    </tr>\n",
       "    <tr>\n",
       "      <th>1</th>\n",
       "      <td>1</td>\n",
       "      <td>85</td>\n",
       "      <td>66</td>\n",
       "      <td>29</td>\n",
       "      <td>0</td>\n",
       "      <td>26.6</td>\n",
       "      <td>0.351</td>\n",
       "      <td>31</td>\n",
       "      <td>0</td>\n",
       "    </tr>\n",
       "    <tr>\n",
       "      <th>2</th>\n",
       "      <td>8</td>\n",
       "      <td>183</td>\n",
       "      <td>64</td>\n",
       "      <td>0</td>\n",
       "      <td>0</td>\n",
       "      <td>23.3</td>\n",
       "      <td>0.672</td>\n",
       "      <td>32</td>\n",
       "      <td>1</td>\n",
       "    </tr>\n",
       "  </tbody>\n",
       "</table>\n",
       "</div>"
      ],
      "text/plain": [
       "   Pregnancies  Glucose  BloodPressure  SkinThickness  Insulin   BMI  \\\n",
       "0            6      148             72             35        0  33.6   \n",
       "1            1       85             66             29        0  26.6   \n",
       "2            8      183             64              0        0  23.3   \n",
       "\n",
       "   DiabetesPedigreeFunction  Age  Outcome  \n",
       "0                     0.627   50        1  \n",
       "1                     0.351   31        0  \n",
       "2                     0.672   32        1  "
      ]
     },
     "execution_count": 3,
     "metadata": {},
     "output_type": "execute_result"
    }
   ],
   "source": [
    "raw_data.head(3)"
   ]
  },
  {
   "cell_type": "markdown",
   "metadata": {},
   "source": [
    "### First rows cleaned data"
   ]
  },
  {
   "cell_type": "code",
   "execution_count": 4,
   "metadata": {},
   "outputs": [
    {
     "data": {
      "text/html": [
       "<div>\n",
       "<style scoped>\n",
       "    .dataframe tbody tr th:only-of-type {\n",
       "        vertical-align: middle;\n",
       "    }\n",
       "\n",
       "    .dataframe tbody tr th {\n",
       "        vertical-align: top;\n",
       "    }\n",
       "\n",
       "    .dataframe thead th {\n",
       "        text-align: right;\n",
       "    }\n",
       "</style>\n",
       "<table border=\"1\" class=\"dataframe\">\n",
       "  <thead>\n",
       "    <tr style=\"text-align: right;\">\n",
       "      <th></th>\n",
       "      <th>Pregnancies</th>\n",
       "      <th>Glucose</th>\n",
       "      <th>BloodPressure</th>\n",
       "      <th>SkinThickness</th>\n",
       "      <th>Insulin</th>\n",
       "      <th>BMI</th>\n",
       "      <th>DiabetesPedigreeFunction</th>\n",
       "      <th>Age</th>\n",
       "      <th>Outcome</th>\n",
       "    </tr>\n",
       "  </thead>\n",
       "  <tbody>\n",
       "    <tr>\n",
       "      <th>0</th>\n",
       "      <td>0.639947</td>\n",
       "      <td>0.865108</td>\n",
       "      <td>-0.033518</td>\n",
       "      <td>6.655021e-01</td>\n",
       "      <td>-3.345079e-16</td>\n",
       "      <td>0.166292</td>\n",
       "      <td>0.468492</td>\n",
       "      <td>1.425995</td>\n",
       "      <td>1</td>\n",
       "    </tr>\n",
       "    <tr>\n",
       "      <th>1</th>\n",
       "      <td>-0.844885</td>\n",
       "      <td>-1.206162</td>\n",
       "      <td>-0.529859</td>\n",
       "      <td>-1.746338e-02</td>\n",
       "      <td>-3.345079e-16</td>\n",
       "      <td>-0.852531</td>\n",
       "      <td>-0.365061</td>\n",
       "      <td>-0.190672</td>\n",
       "      <td>0</td>\n",
       "    </tr>\n",
       "    <tr>\n",
       "      <th>2</th>\n",
       "      <td>1.233880</td>\n",
       "      <td>2.015813</td>\n",
       "      <td>-0.695306</td>\n",
       "      <td>8.087936e-16</td>\n",
       "      <td>-3.345079e-16</td>\n",
       "      <td>-1.332833</td>\n",
       "      <td>0.604397</td>\n",
       "      <td>-0.105584</td>\n",
       "      <td>1</td>\n",
       "    </tr>\n",
       "  </tbody>\n",
       "</table>\n",
       "</div>"
      ],
      "text/plain": [
       "   Pregnancies   Glucose  BloodPressure  SkinThickness       Insulin  \\\n",
       "0     0.639947  0.865108      -0.033518   6.655021e-01 -3.345079e-16   \n",
       "1    -0.844885 -1.206162      -0.529859  -1.746338e-02 -3.345079e-16   \n",
       "2     1.233880  2.015813      -0.695306   8.087936e-16 -3.345079e-16   \n",
       "\n",
       "        BMI  DiabetesPedigreeFunction       Age  Outcome  \n",
       "0  0.166292                  0.468492  1.425995        1  \n",
       "1 -0.852531                 -0.365061 -0.190672        0  \n",
       "2 -1.332833                  0.604397 -0.105584        1  "
      ]
     },
     "execution_count": 4,
     "metadata": {},
     "output_type": "execute_result"
    }
   ],
   "source": [
    "scaled_data.head(3)"
   ]
  },
  {
   "cell_type": "markdown",
   "metadata": {},
   "source": [
    "### First rows Scaled data"
   ]
  },
  {
   "cell_type": "code",
   "execution_count": 5,
   "metadata": {},
   "outputs": [
    {
     "data": {
      "text/html": [
       "<div>\n",
       "<style scoped>\n",
       "    .dataframe tbody tr th:only-of-type {\n",
       "        vertical-align: middle;\n",
       "    }\n",
       "\n",
       "    .dataframe tbody tr th {\n",
       "        vertical-align: top;\n",
       "    }\n",
       "\n",
       "    .dataframe thead th {\n",
       "        text-align: right;\n",
       "    }\n",
       "</style>\n",
       "<table border=\"1\" class=\"dataframe\">\n",
       "  <thead>\n",
       "    <tr style=\"text-align: right;\">\n",
       "      <th></th>\n",
       "      <th>Pregnancies</th>\n",
       "      <th>Glucose</th>\n",
       "      <th>BloodPressure</th>\n",
       "      <th>SkinThickness</th>\n",
       "      <th>Insulin</th>\n",
       "      <th>BMI</th>\n",
       "      <th>DiabetesPedigreeFunction</th>\n",
       "      <th>Age</th>\n",
       "      <th>Outcome</th>\n",
       "    </tr>\n",
       "  </thead>\n",
       "  <tbody>\n",
       "    <tr>\n",
       "      <th>0</th>\n",
       "      <td>0.639947</td>\n",
       "      <td>0.865108</td>\n",
       "      <td>-0.033518</td>\n",
       "      <td>6.655021e-01</td>\n",
       "      <td>-3.345079e-16</td>\n",
       "      <td>0.166292</td>\n",
       "      <td>0.468492</td>\n",
       "      <td>1.425995</td>\n",
       "      <td>1</td>\n",
       "    </tr>\n",
       "    <tr>\n",
       "      <th>1</th>\n",
       "      <td>-0.844885</td>\n",
       "      <td>-1.206162</td>\n",
       "      <td>-0.529859</td>\n",
       "      <td>-1.746338e-02</td>\n",
       "      <td>-3.345079e-16</td>\n",
       "      <td>-0.852531</td>\n",
       "      <td>-0.365061</td>\n",
       "      <td>-0.190672</td>\n",
       "      <td>0</td>\n",
       "    </tr>\n",
       "    <tr>\n",
       "      <th>2</th>\n",
       "      <td>1.233880</td>\n",
       "      <td>2.015813</td>\n",
       "      <td>-0.695306</td>\n",
       "      <td>8.087936e-16</td>\n",
       "      <td>-3.345079e-16</td>\n",
       "      <td>-1.332833</td>\n",
       "      <td>0.604397</td>\n",
       "      <td>-0.105584</td>\n",
       "      <td>1</td>\n",
       "    </tr>\n",
       "  </tbody>\n",
       "</table>\n",
       "</div>"
      ],
      "text/plain": [
       "   Pregnancies   Glucose  BloodPressure  SkinThickness       Insulin  \\\n",
       "0     0.639947  0.865108      -0.033518   6.655021e-01 -3.345079e-16   \n",
       "1    -0.844885 -1.206162      -0.529859  -1.746338e-02 -3.345079e-16   \n",
       "2     1.233880  2.015813      -0.695306   8.087936e-16 -3.345079e-16   \n",
       "\n",
       "        BMI  DiabetesPedigreeFunction       Age  Outcome  \n",
       "0  0.166292                  0.468492  1.425995        1  \n",
       "1 -0.852531                 -0.365061 -0.190672        0  \n",
       "2 -1.332833                  0.604397 -0.105584        1  "
      ]
     },
     "execution_count": 5,
     "metadata": {},
     "output_type": "execute_result"
    }
   ],
   "source": [
    "scaled_data.head(3)"
   ]
  },
  {
   "cell_type": "markdown",
   "metadata": {},
   "source": [
    "### => Let use cleaned dataset "
   ]
  },
  {
   "cell_type": "code",
   "execution_count": 6,
   "metadata": {},
   "outputs": [],
   "source": [
    "df = cleaned_data"
   ]
  },
  {
   "cell_type": "markdown",
   "metadata": {},
   "source": [
    " ### 2. Splitting the data into training, testing, and validation sets"
   ]
  },
  {
   "cell_type": "code",
   "execution_count": 7,
   "metadata": {},
   "outputs": [],
   "source": [
    "from sklearn.model_selection import train_test_split\n",
    "\n",
    "X = df.loc[:, df.columns != 'Outcome'] # dt.iloc[:,:9].values\n",
    "y = df.loc[:, 'Outcome'] # dt.iloc[:,8:9].values"
   ]
  },
  {
   "cell_type": "code",
   "execution_count": 8,
   "metadata": {},
   "outputs": [],
   "source": [
    "X_train, X_test, y_train, y_test = train_test_split(X, y, test_size=0.2)\n",
    "X_train, X_val, y_train, y_val = train_test_split(X_train, y_train, test_size=0.2)\n",
    "#pd.DataFrame({\"Training\": [X_train.shape, y_train.shape], \n",
    "              #\"Validation\": [X_val.shape, y_val.shape],\n",
    "              #\"Testing\":[X_test.shape, y_test.shape]}, index=['Features', 'Target', 'Validation'])"
   ]
  },
  {
   "cell_type": "markdown",
   "metadata": {},
   "source": [
    "# 3.  model"
   ]
  },
  {
   "cell_type": "markdown",
   "metadata": {},
   "source": [
    "## 3.1. Build Model"
   ]
  },
  {
   "cell_type": "code",
   "execution_count": 9,
   "metadata": {},
   "outputs": [
    {
     "name": "stdout",
     "output_type": "stream",
     "text": [
      "Requirement already satisfied: tensorflow==2.5.0 in c:\\users\\rkd-pc\\anaconda3\\envs\\p01ml_venv\\lib\\site-packages (2.5.0)\n",
      "Requirement already satisfied: wrapt~=1.12.1 in c:\\users\\rkd-pc\\anaconda3\\envs\\p01ml_venv\\lib\\site-packages (from tensorflow==2.5.0) (1.12.1)\n",
      "Requirement already satisfied: astunparse~=1.6.3 in c:\\users\\rkd-pc\\anaconda3\\envs\\p01ml_venv\\lib\\site-packages (from tensorflow==2.5.0) (1.6.3)\n",
      "Requirement already satisfied: grpcio~=1.34.0 in c:\\users\\rkd-pc\\anaconda3\\envs\\p01ml_venv\\lib\\site-packages (from tensorflow==2.5.0) (1.34.1)\n",
      "Requirement already satisfied: keras-preprocessing~=1.1.2 in c:\\users\\rkd-pc\\anaconda3\\envs\\p01ml_venv\\lib\\site-packages (from tensorflow==2.5.0) (1.1.2)\n",
      "Requirement already satisfied: opt-einsum~=3.3.0 in c:\\users\\rkd-pc\\anaconda3\\envs\\p01ml_venv\\lib\\site-packages (from tensorflow==2.5.0) (3.3.0)\n",
      "Requirement already satisfied: wheel~=0.35 in c:\\users\\rkd-pc\\anaconda3\\envs\\p01ml_venv\\lib\\site-packages (from tensorflow==2.5.0) (0.37.0)\n",
      "Requirement already satisfied: gast==0.4.0 in c:\\users\\rkd-pc\\anaconda3\\envs\\p01ml_venv\\lib\\site-packages (from tensorflow==2.5.0) (0.4.0)\n",
      "Requirement already satisfied: six~=1.15.0 in c:\\users\\rkd-pc\\anaconda3\\envs\\p01ml_venv\\lib\\site-packages (from tensorflow==2.5.0) (1.15.0)\n",
      "Requirement already satisfied: google-pasta~=0.2 in c:\\users\\rkd-pc\\anaconda3\\envs\\p01ml_venv\\lib\\site-packages (from tensorflow==2.5.0) (0.2.0)\n",
      "Requirement already satisfied: termcolor~=1.1.0 in c:\\users\\rkd-pc\\anaconda3\\envs\\p01ml_venv\\lib\\site-packages (from tensorflow==2.5.0) (1.1.0)\n",
      "Requirement already satisfied: keras-nightly~=2.5.0.dev in c:\\users\\rkd-pc\\anaconda3\\envs\\p01ml_venv\\lib\\site-packages (from tensorflow==2.5.0) (2.5.0.dev2021032900)\n",
      "Requirement already satisfied: tensorflow-estimator<2.6.0,>=2.5.0rc0 in c:\\users\\rkd-pc\\anaconda3\\envs\\p01ml_venv\\lib\\site-packages (from tensorflow==2.5.0) (2.5.0)\n",
      "Requirement already satisfied: absl-py~=0.10 in c:\\users\\rkd-pc\\anaconda3\\envs\\p01ml_venv\\lib\\site-packages (from tensorflow==2.5.0) (0.13.0)\n",
      "Requirement already satisfied: flatbuffers~=1.12.0 in c:\\users\\rkd-pc\\anaconda3\\envs\\p01ml_venv\\lib\\site-packages (from tensorflow==2.5.0) (1.12)\n",
      "Requirement already satisfied: tensorboard~=2.5 in c:\\users\\rkd-pc\\anaconda3\\envs\\p01ml_venv\\lib\\site-packages (from tensorflow==2.5.0) (2.7.0)\n",
      "Requirement already satisfied: protobuf>=3.9.2 in c:\\users\\rkd-pc\\anaconda3\\envs\\p01ml_venv\\lib\\site-packages (from tensorflow==2.5.0) (3.17.2)\n",
      "Requirement already satisfied: h5py~=3.1.0 in c:\\users\\rkd-pc\\anaconda3\\envs\\p01ml_venv\\lib\\site-packages (from tensorflow==2.5.0) (3.1.0)\n",
      "Requirement already satisfied: numpy~=1.19.2 in c:\\users\\rkd-pc\\anaconda3\\envs\\p01ml_venv\\lib\\site-packages (from tensorflow==2.5.0) (1.19.5)\n",
      "Requirement already satisfied: typing-extensions~=3.7.4 in c:\\users\\rkd-pc\\anaconda3\\envs\\p01ml_venv\\lib\\site-packages (from tensorflow==2.5.0) (3.7.4.3)\n",
      "Requirement already satisfied: cached-property in c:\\users\\rkd-pc\\anaconda3\\envs\\p01ml_venv\\lib\\site-packages (from h5py~=3.1.0->tensorflow==2.5.0) (1.5.2)\n",
      "Requirement already satisfied: requests<3,>=2.21.0 in c:\\users\\rkd-pc\\anaconda3\\envs\\p01ml_venv\\lib\\site-packages (from tensorboard~=2.5->tensorflow==2.5.0) (2.26.0)\n",
      "Requirement already satisfied: google-auth<3,>=1.6.3 in c:\\users\\rkd-pc\\anaconda3\\envs\\p01ml_venv\\lib\\site-packages (from tensorboard~=2.5->tensorflow==2.5.0) (2.3.0)\n",
      "Requirement already satisfied: markdown>=2.6.8 in c:\\users\\rkd-pc\\anaconda3\\envs\\p01ml_venv\\lib\\site-packages (from tensorboard~=2.5->tensorflow==2.5.0) (3.3.4)\n",
      "Requirement already satisfied: tensorboard-data-server<0.7.0,>=0.6.0 in c:\\users\\rkd-pc\\anaconda3\\envs\\p01ml_venv\\lib\\site-packages (from tensorboard~=2.5->tensorflow==2.5.0) (0.6.1)\n",
      "Requirement already satisfied: tensorboard-plugin-wit>=1.6.0 in c:\\users\\rkd-pc\\anaconda3\\envs\\p01ml_venv\\lib\\site-packages (from tensorboard~=2.5->tensorflow==2.5.0) (1.8.0)\n",
      "Requirement already satisfied: setuptools>=41.0.0 in c:\\users\\rkd-pc\\anaconda3\\envs\\p01ml_venv\\lib\\site-packages (from tensorboard~=2.5->tensorflow==2.5.0) (58.0.4)\n",
      "Requirement already satisfied: werkzeug>=0.11.15 in c:\\users\\rkd-pc\\anaconda3\\envs\\p01ml_venv\\lib\\site-packages (from tensorboard~=2.5->tensorflow==2.5.0) (2.0.1)\n",
      "Requirement already satisfied: google-auth-oauthlib<0.5,>=0.4.1 in c:\\users\\rkd-pc\\anaconda3\\envs\\p01ml_venv\\lib\\site-packages (from tensorboard~=2.5->tensorflow==2.5.0) (0.4.6)\n",
      "Requirement already satisfied: cachetools<5.0,>=2.0.0 in c:\\users\\rkd-pc\\anaconda3\\envs\\p01ml_venv\\lib\\site-packages (from google-auth<3,>=1.6.3->tensorboard~=2.5->tensorflow==2.5.0) (4.2.4)\n",
      "Requirement already satisfied: rsa<5,>=3.1.4 in c:\\users\\rkd-pc\\anaconda3\\envs\\p01ml_venv\\lib\\site-packages (from google-auth<3,>=1.6.3->tensorboard~=2.5->tensorflow==2.5.0) (4.7.2)\n",
      "Requirement already satisfied: pyasn1-modules>=0.2.1 in c:\\users\\rkd-pc\\anaconda3\\envs\\p01ml_venv\\lib\\site-packages (from google-auth<3,>=1.6.3->tensorboard~=2.5->tensorflow==2.5.0) (0.2.8)\n",
      "Requirement already satisfied: requests-oauthlib>=0.7.0 in c:\\users\\rkd-pc\\anaconda3\\envs\\p01ml_venv\\lib\\site-packages (from google-auth-oauthlib<0.5,>=0.4.1->tensorboard~=2.5->tensorflow==2.5.0) (1.3.0)\n",
      "Requirement already satisfied: importlib-metadata in c:\\users\\rkd-pc\\anaconda3\\envs\\p01ml_venv\\lib\\site-packages (from markdown>=2.6.8->tensorboard~=2.5->tensorflow==2.5.0) (4.8.1)\n",
      "Requirement already satisfied: pyasn1<0.5.0,>=0.4.6 in c:\\users\\rkd-pc\\anaconda3\\envs\\p01ml_venv\\lib\\site-packages (from pyasn1-modules>=0.2.1->google-auth<3,>=1.6.3->tensorboard~=2.5->tensorflow==2.5.0) (0.4.8)\n",
      "Requirement already satisfied: charset-normalizer~=2.0.0 in c:\\users\\rkd-pc\\anaconda3\\envs\\p01ml_venv\\lib\\site-packages (from requests<3,>=2.21.0->tensorboard~=2.5->tensorflow==2.5.0) (2.0.7)\n",
      "Requirement already satisfied: idna<4,>=2.5 in c:\\users\\rkd-pc\\anaconda3\\envs\\p01ml_venv\\lib\\site-packages (from requests<3,>=2.21.0->tensorboard~=2.5->tensorflow==2.5.0) (3.3)\n",
      "Requirement already satisfied: certifi>=2017.4.17 in c:\\users\\rkd-pc\\anaconda3\\envs\\p01ml_venv\\lib\\site-packages (from requests<3,>=2.21.0->tensorboard~=2.5->tensorflow==2.5.0) (2021.10.8)\n",
      "Requirement already satisfied: urllib3<1.27,>=1.21.1 in c:\\users\\rkd-pc\\anaconda3\\envs\\p01ml_venv\\lib\\site-packages (from requests<3,>=2.21.0->tensorboard~=2.5->tensorflow==2.5.0) (1.26.7)\n",
      "Requirement already satisfied: oauthlib>=3.0.0 in c:\\users\\rkd-pc\\anaconda3\\envs\\p01ml_venv\\lib\\site-packages (from requests-oauthlib>=0.7.0->google-auth-oauthlib<0.5,>=0.4.1->tensorboard~=2.5->tensorflow==2.5.0) (3.1.1)\n",
      "Requirement already satisfied: zipp>=0.5 in c:\\users\\rkd-pc\\anaconda3\\envs\\p01ml_venv\\lib\\site-packages (from importlib-metadata->markdown>=2.6.8->tensorboard~=2.5->tensorflow==2.5.0) (3.6.0)\n",
      "Note: you may need to restart the kernel to use updated packages.\n"
     ]
    }
   ],
   "source": [
    "pip install tensorflow==2.5.0"
   ]
  },
  {
   "cell_type": "code",
   "execution_count": 10,
   "metadata": {},
   "outputs": [],
   "source": [
    "#Dependencies\n",
    "import keras\n",
    "from keras.models import Sequential\n",
    "from keras.layers import Dense\n",
    "# Neural network\n",
    "model = Sequential()\n",
    "model.add(Dense(16, input_dim=8, activation='relu'))\n",
    "model.add(Dense(12, activation='relu'))\n",
    "model.add(Dense(1, activation='sigmoid'))"
   ]
  },
  {
   "cell_type": "code",
   "execution_count": 11,
   "metadata": {},
   "outputs": [
    {
     "name": "stdout",
     "output_type": "stream",
     "text": [
      "Model: \"sequential\"\n",
      "_________________________________________________________________\n",
      "Layer (type)                 Output Shape              Param #   \n",
      "=================================================================\n",
      "dense (Dense)                (None, 16)                144       \n",
      "_________________________________________________________________\n",
      "dense_1 (Dense)              (None, 12)                204       \n",
      "_________________________________________________________________\n",
      "dense_2 (Dense)              (None, 1)                 13        \n",
      "=================================================================\n",
      "Total params: 361\n",
      "Trainable params: 361\n",
      "Non-trainable params: 0\n",
      "_________________________________________________________________\n"
     ]
    }
   ],
   "source": [
    "model.summary()"
   ]
  },
  {
   "cell_type": "markdown",
   "metadata": {},
   "source": [
    "## 3.2.  Compile the model"
   ]
  },
  {
   "cell_type": "code",
   "execution_count": 12,
   "metadata": {},
   "outputs": [],
   "source": [
    "model.compile(loss='binary_crossentropy', \n",
    "              optimizer='adam', \n",
    "              metrics=['accuracy'])"
   ]
  },
  {
   "cell_type": "markdown",
   "metadata": {},
   "source": [
    "## 3.3.  Model Training"
   ]
  },
  {
   "cell_type": "code",
   "execution_count": 13,
   "metadata": {},
   "outputs": [],
   "source": [
    "from datetime import datetime\n",
    "def training_time(start_time= None):\n",
    "    \"\"\"\n",
    "    this code is to show how much time required to train the model \n",
    "    using different algorithms\n",
    "    \"\"\"\n",
    "    if not start_time:\n",
    "        start_time=datetime.now()\n",
    "        return start_time\n",
    "    elif start_time:\n",
    "        thour,temp_sec=divmod((datetime.now()-start_time).total_seconds(),3600)\n",
    "        tmin,tsec=divmod(temp_sec,60)\n",
    "    \n",
    "    print(f'\\nTrianing Duration: {thour} hours {tmin} minutes and {round(tsec,2)} seconds.')"
   ]
  },
  {
   "cell_type": "code",
   "execution_count": 14,
   "metadata": {},
   "outputs": [
    {
     "name": "stdout",
     "output_type": "stream",
     "text": [
      "Epoch 1/100\n",
      "8/8 [==============================] - 12s 56ms/step - loss: 2.6614 - accuracy: 0.5796 - val_loss: 2.3538 - val_accuracy: 0.4634\n",
      "Epoch 2/100\n",
      "8/8 [==============================] - 0s 3ms/step - loss: 1.7430 - accuracy: 0.5841 - val_loss: 2.1836 - val_accuracy: 0.5447\n",
      "Epoch 3/100\n",
      "8/8 [==============================] - 0s 3ms/step - loss: 1.6608 - accuracy: 0.5891 - val_loss: 1.3442 - val_accuracy: 0.4959\n",
      "Epoch 4/100\n",
      "8/8 [==============================] - 0s 3ms/step - loss: 1.0313 - accuracy: 0.5575 - val_loss: 1.3285 - val_accuracy: 0.4878\n",
      "Epoch 5/100\n",
      "8/8 [==============================] - 0s 3ms/step - loss: 0.9704 - accuracy: 0.5919 - val_loss: 1.1855 - val_accuracy: 0.4878\n",
      "Epoch 6/100\n",
      "8/8 [==============================] - 0s 3ms/step - loss: 0.9426 - accuracy: 0.6147 - val_loss: 1.1937 - val_accuracy: 0.4797\n",
      "Epoch 7/100\n",
      "8/8 [==============================] - 0s 3ms/step - loss: 0.8679 - accuracy: 0.6226 - val_loss: 1.3071 - val_accuracy: 0.5203\n",
      "Epoch 8/100\n",
      "8/8 [==============================] - 0s 3ms/step - loss: 0.8708 - accuracy: 0.6779 - val_loss: 1.0945 - val_accuracy: 0.5447\n",
      "Epoch 9/100\n",
      "8/8 [==============================] - 0s 3ms/step - loss: 0.8795 - accuracy: 0.5901 - val_loss: 1.1904 - val_accuracy: 0.5122\n",
      "Epoch 10/100\n",
      "8/8 [==============================] - 0s 3ms/step - loss: 0.8127 - accuracy: 0.6947 - val_loss: 1.0026 - val_accuracy: 0.5366\n",
      "Epoch 11/100\n",
      "8/8 [==============================] - 0s 3ms/step - loss: 0.8063 - accuracy: 0.5856 - val_loss: 1.3007 - val_accuracy: 0.5285\n",
      "Epoch 12/100\n",
      "8/8 [==============================] - 0s 3ms/step - loss: 0.9634 - accuracy: 0.6318 - val_loss: 0.9739 - val_accuracy: 0.5285\n",
      "Epoch 13/100\n",
      "8/8 [==============================] - 0s 3ms/step - loss: 0.7543 - accuracy: 0.6693 - val_loss: 0.9884 - val_accuracy: 0.5366\n",
      "Epoch 14/100\n",
      "8/8 [==============================] - 0s 3ms/step - loss: 0.7758 - accuracy: 0.6102 - val_loss: 1.0373 - val_accuracy: 0.5366\n",
      "Epoch 15/100\n",
      "8/8 [==============================] - 0s 3ms/step - loss: 0.7251 - accuracy: 0.6831 - val_loss: 0.9270 - val_accuracy: 0.5122\n",
      "Epoch 16/100\n",
      "8/8 [==============================] - 0s 3ms/step - loss: 0.7260 - accuracy: 0.6041 - val_loss: 1.1097 - val_accuracy: 0.5122\n",
      "Epoch 17/100\n",
      "8/8 [==============================] - 0s 3ms/step - loss: 0.7373 - accuracy: 0.6881 - val_loss: 0.9513 - val_accuracy: 0.5285\n",
      "Epoch 18/100\n",
      "8/8 [==============================] - 0s 3ms/step - loss: 0.7944 - accuracy: 0.6062 - val_loss: 0.9820 - val_accuracy: 0.5610\n",
      "Epoch 19/100\n",
      "8/8 [==============================] - 0s 3ms/step - loss: 0.7086 - accuracy: 0.6877 - val_loss: 0.9347 - val_accuracy: 0.5447\n",
      "Epoch 20/100\n",
      "8/8 [==============================] - 0s 3ms/step - loss: 0.6824 - accuracy: 0.6761 - val_loss: 0.9579 - val_accuracy: 0.5366\n",
      "Epoch 21/100\n",
      "8/8 [==============================] - 0s 3ms/step - loss: 0.7173 - accuracy: 0.6617 - val_loss: 0.9145 - val_accuracy: 0.5285\n",
      "Epoch 22/100\n",
      "8/8 [==============================] - 0s 3ms/step - loss: 0.6409 - accuracy: 0.6745 - val_loss: 0.9542 - val_accuracy: 0.5528\n",
      "Epoch 23/100\n",
      "8/8 [==============================] - 0s 3ms/step - loss: 0.7081 - accuracy: 0.6500 - val_loss: 0.9375 - val_accuracy: 0.5528\n",
      "Epoch 24/100\n",
      "8/8 [==============================] - 0s 3ms/step - loss: 0.7031 - accuracy: 0.6733 - val_loss: 0.9176 - val_accuracy: 0.5285\n",
      "Epoch 25/100\n",
      "8/8 [==============================] - 0s 3ms/step - loss: 0.6828 - accuracy: 0.6346 - val_loss: 1.0578 - val_accuracy: 0.5854\n",
      "Epoch 26/100\n",
      "8/8 [==============================] - 0s 3ms/step - loss: 0.7045 - accuracy: 0.6641 - val_loss: 0.9368 - val_accuracy: 0.5366\n",
      "Epoch 27/100\n",
      "8/8 [==============================] - 0s 3ms/step - loss: 0.6500 - accuracy: 0.6805 - val_loss: 0.8923 - val_accuracy: 0.5041\n",
      "Epoch 28/100\n",
      "8/8 [==============================] - 0s 3ms/step - loss: 0.6850 - accuracy: 0.6483 - val_loss: 1.0552 - val_accuracy: 0.5691\n",
      "Epoch 29/100\n",
      "8/8 [==============================] - 0s 3ms/step - loss: 0.6444 - accuracy: 0.7128 - val_loss: 0.9026 - val_accuracy: 0.5041\n",
      "Epoch 30/100\n",
      "8/8 [==============================] - 0s 3ms/step - loss: 0.6991 - accuracy: 0.6564 - val_loss: 0.9090 - val_accuracy: 0.5366\n",
      "Epoch 31/100\n",
      "8/8 [==============================] - 0s 3ms/step - loss: 0.6428 - accuracy: 0.6561 - val_loss: 0.9899 - val_accuracy: 0.5935\n",
      "Epoch 32/100\n",
      "8/8 [==============================] - 0s 3ms/step - loss: 0.6873 - accuracy: 0.6894 - val_loss: 0.9213 - val_accuracy: 0.5528\n",
      "Epoch 33/100\n",
      "8/8 [==============================] - 0s 3ms/step - loss: 0.6401 - accuracy: 0.7094 - val_loss: 0.9045 - val_accuracy: 0.5610\n",
      "Epoch 34/100\n",
      "8/8 [==============================] - 0s 3ms/step - loss: 0.6542 - accuracy: 0.6913 - val_loss: 0.9445 - val_accuracy: 0.5854\n",
      "Epoch 35/100\n",
      "8/8 [==============================] - 0s 3ms/step - loss: 0.6194 - accuracy: 0.7098 - val_loss: 0.8951 - val_accuracy: 0.5285\n",
      "Epoch 36/100\n",
      "8/8 [==============================] - 0s 3ms/step - loss: 0.6314 - accuracy: 0.7033 - val_loss: 0.9933 - val_accuracy: 0.6016\n",
      "Epoch 37/100\n",
      "8/8 [==============================] - 0s 3ms/step - loss: 0.6379 - accuracy: 0.7134 - val_loss: 0.8872 - val_accuracy: 0.5122\n",
      "Epoch 38/100\n",
      "8/8 [==============================] - 0s 3ms/step - loss: 0.6614 - accuracy: 0.6962 - val_loss: 0.8950 - val_accuracy: 0.5772\n",
      "Epoch 39/100\n",
      "8/8 [==============================] - 0s 3ms/step - loss: 0.6402 - accuracy: 0.6842 - val_loss: 0.9106 - val_accuracy: 0.5854\n",
      "Epoch 40/100\n",
      "8/8 [==============================] - 0s 3ms/step - loss: 0.5952 - accuracy: 0.7244 - val_loss: 0.8931 - val_accuracy: 0.5528\n",
      "Epoch 41/100\n",
      "8/8 [==============================] - 0s 3ms/step - loss: 0.5961 - accuracy: 0.7553 - val_loss: 0.8643 - val_accuracy: 0.5122\n",
      "Epoch 42/100\n",
      "8/8 [==============================] - 0s 3ms/step - loss: 0.6391 - accuracy: 0.6918 - val_loss: 0.8965 - val_accuracy: 0.5772\n",
      "Epoch 43/100\n",
      "8/8 [==============================] - 0s 3ms/step - loss: 0.5919 - accuracy: 0.7162 - val_loss: 0.9716 - val_accuracy: 0.6179\n",
      "Epoch 44/100\n",
      "8/8 [==============================] - 0s 3ms/step - loss: 0.6519 - accuracy: 0.6912 - val_loss: 0.8534 - val_accuracy: 0.5203\n",
      "Epoch 45/100\n",
      "8/8 [==============================] - 0s 3ms/step - loss: 0.6435 - accuracy: 0.6655 - val_loss: 0.8812 - val_accuracy: 0.5854\n",
      "Epoch 46/100\n",
      "8/8 [==============================] - 0s 3ms/step - loss: 0.6303 - accuracy: 0.6763 - val_loss: 0.9690 - val_accuracy: 0.6179\n",
      "Epoch 47/100\n",
      "8/8 [==============================] - 0s 3ms/step - loss: 0.6527 - accuracy: 0.6868 - val_loss: 0.9101 - val_accuracy: 0.5854\n",
      "Epoch 48/100\n",
      "8/8 [==============================] - 0s 3ms/step - loss: 0.6022 - accuracy: 0.7095 - val_loss: 0.8464 - val_accuracy: 0.5285\n",
      "Epoch 49/100\n",
      "8/8 [==============================] - 0s 3ms/step - loss: 0.6199 - accuracy: 0.6962 - val_loss: 0.9318 - val_accuracy: 0.5935\n",
      "Epoch 50/100\n",
      "8/8 [==============================] - 0s 3ms/step - loss: 0.6134 - accuracy: 0.6839 - val_loss: 0.9099 - val_accuracy: 0.5935\n",
      "Epoch 51/100\n",
      "8/8 [==============================] - 0s 3ms/step - loss: 0.6246 - accuracy: 0.7209 - val_loss: 0.8287 - val_accuracy: 0.5447\n",
      "Epoch 52/100\n",
      "8/8 [==============================] - 0s 3ms/step - loss: 0.5800 - accuracy: 0.7231 - val_loss: 0.8950 - val_accuracy: 0.5772\n",
      "Epoch 53/100\n",
      "8/8 [==============================] - 0s 3ms/step - loss: 0.6097 - accuracy: 0.6994 - val_loss: 0.9039 - val_accuracy: 0.5935\n",
      "Epoch 54/100\n",
      "8/8 [==============================] - 0s 3ms/step - loss: 0.5898 - accuracy: 0.7049 - val_loss: 0.8570 - val_accuracy: 0.6179\n",
      "Epoch 55/100\n",
      "8/8 [==============================] - 0s 3ms/step - loss: 0.6055 - accuracy: 0.7292 - val_loss: 0.8411 - val_accuracy: 0.5203\n",
      "Epoch 56/100\n",
      "8/8 [==============================] - 0s 3ms/step - loss: 0.6163 - accuracy: 0.7015 - val_loss: 0.8795 - val_accuracy: 0.6179\n",
      "Epoch 57/100\n",
      "8/8 [==============================] - 0s 3ms/step - loss: 0.5885 - accuracy: 0.7127 - val_loss: 0.8358 - val_accuracy: 0.5528\n",
      "Epoch 58/100\n",
      "8/8 [==============================] - 0s 3ms/step - loss: 0.5999 - accuracy: 0.7064 - val_loss: 0.8331 - val_accuracy: 0.5691\n",
      "Epoch 59/100\n"
     ]
    },
    {
     "name": "stdout",
     "output_type": "stream",
     "text": [
      "8/8 [==============================] - 0s 3ms/step - loss: 0.5762 - accuracy: 0.7174 - val_loss: 0.9620 - val_accuracy: 0.6260\n",
      "Epoch 60/100\n",
      "8/8 [==============================] - 0s 3ms/step - loss: 0.5923 - accuracy: 0.7201 - val_loss: 0.8248 - val_accuracy: 0.5366\n",
      "Epoch 61/100\n",
      "8/8 [==============================] - 0s 4ms/step - loss: 0.5778 - accuracy: 0.7229 - val_loss: 0.8327 - val_accuracy: 0.5772\n",
      "Epoch 62/100\n",
      "8/8 [==============================] - 0s 3ms/step - loss: 0.5853 - accuracy: 0.6966 - val_loss: 0.9557 - val_accuracy: 0.6016\n",
      "Epoch 63/100\n",
      "8/8 [==============================] - 0s 3ms/step - loss: 0.6015 - accuracy: 0.7377 - val_loss: 0.8213 - val_accuracy: 0.5772\n",
      "Epoch 64/100\n",
      "8/8 [==============================] - 0s 3ms/step - loss: 0.5702 - accuracy: 0.7029 - val_loss: 0.8631 - val_accuracy: 0.5935\n",
      "Epoch 65/100\n",
      "8/8 [==============================] - 0s 3ms/step - loss: 0.5987 - accuracy: 0.7141 - val_loss: 0.8851 - val_accuracy: 0.6098\n",
      "Epoch 66/100\n",
      "8/8 [==============================] - 0s 3ms/step - loss: 0.5675 - accuracy: 0.7295 - val_loss: 0.8525 - val_accuracy: 0.6016\n",
      "Epoch 67/100\n",
      "8/8 [==============================] - 0s 3ms/step - loss: 0.5737 - accuracy: 0.7213 - val_loss: 0.8130 - val_accuracy: 0.5285\n",
      "Epoch 68/100\n",
      "8/8 [==============================] - 0s 3ms/step - loss: 0.6278 - accuracy: 0.6774 - val_loss: 0.8649 - val_accuracy: 0.6098\n",
      "Epoch 69/100\n",
      "8/8 [==============================] - 0s 3ms/step - loss: 0.5513 - accuracy: 0.7365 - val_loss: 0.8817 - val_accuracy: 0.6341\n",
      "Epoch 70/100\n",
      "8/8 [==============================] - 0s 3ms/step - loss: 0.5656 - accuracy: 0.7242 - val_loss: 0.8285 - val_accuracy: 0.5691\n",
      "Epoch 71/100\n",
      "8/8 [==============================] - 0s 3ms/step - loss: 0.5647 - accuracy: 0.7515 - val_loss: 0.8275 - val_accuracy: 0.5935\n",
      "Epoch 72/100\n",
      "8/8 [==============================] - 0s 3ms/step - loss: 0.5869 - accuracy: 0.7229 - val_loss: 0.8220 - val_accuracy: 0.5691\n",
      "Epoch 73/100\n",
      "8/8 [==============================] - 0s 3ms/step - loss: 0.5693 - accuracy: 0.7318 - val_loss: 0.9574 - val_accuracy: 0.5691\n",
      "Epoch 74/100\n",
      "8/8 [==============================] - 0s 3ms/step - loss: 0.6090 - accuracy: 0.7097 - val_loss: 0.8159 - val_accuracy: 0.5691\n",
      "Epoch 75/100\n",
      "8/8 [==============================] - 0s 3ms/step - loss: 0.5844 - accuracy: 0.7420 - val_loss: 0.8220 - val_accuracy: 0.6098\n",
      "Epoch 76/100\n",
      "8/8 [==============================] - 0s 3ms/step - loss: 0.5481 - accuracy: 0.7309 - val_loss: 0.8279 - val_accuracy: 0.5691\n",
      "Epoch 77/100\n",
      "8/8 [==============================] - 0s 3ms/step - loss: 0.6000 - accuracy: 0.7280 - val_loss: 0.8042 - val_accuracy: 0.5528\n",
      "Epoch 78/100\n",
      "8/8 [==============================] - 0s 3ms/step - loss: 0.5741 - accuracy: 0.7287 - val_loss: 0.8035 - val_accuracy: 0.6098\n",
      "Epoch 79/100\n",
      "8/8 [==============================] - 0s 3ms/step - loss: 0.5548 - accuracy: 0.7505 - val_loss: 0.8188 - val_accuracy: 0.5691\n",
      "Epoch 80/100\n",
      "8/8 [==============================] - 0s 3ms/step - loss: 0.5674 - accuracy: 0.7278 - val_loss: 0.8036 - val_accuracy: 0.5772\n",
      "Epoch 81/100\n",
      "8/8 [==============================] - 0s 3ms/step - loss: 0.5762 - accuracy: 0.7165 - val_loss: 0.9817 - val_accuracy: 0.5447\n",
      "Epoch 82/100\n",
      "8/8 [==============================] - 0s 3ms/step - loss: 0.5902 - accuracy: 0.6942 - val_loss: 0.7900 - val_accuracy: 0.5691\n",
      "Epoch 83/100\n",
      "8/8 [==============================] - 0s 3ms/step - loss: 0.5295 - accuracy: 0.7797 - val_loss: 0.8006 - val_accuracy: 0.5854\n",
      "Epoch 84/100\n",
      "8/8 [==============================] - 0s 3ms/step - loss: 0.5900 - accuracy: 0.7015 - val_loss: 0.9867 - val_accuracy: 0.5203\n",
      "Epoch 85/100\n",
      "8/8 [==============================] - 0s 3ms/step - loss: 0.6080 - accuracy: 0.7083 - val_loss: 0.8298 - val_accuracy: 0.5610\n",
      "Epoch 86/100\n",
      "8/8 [==============================] - 0s 3ms/step - loss: 0.5573 - accuracy: 0.7459 - val_loss: 0.7898 - val_accuracy: 0.5528\n",
      "Epoch 87/100\n",
      "8/8 [==============================] - 0s 3ms/step - loss: 0.5694 - accuracy: 0.7198 - val_loss: 0.8125 - val_accuracy: 0.6179\n",
      "Epoch 88/100\n",
      "8/8 [==============================] - 0s 3ms/step - loss: 0.5571 - accuracy: 0.6958 - val_loss: 0.8712 - val_accuracy: 0.6098\n",
      "Epoch 89/100\n",
      "8/8 [==============================] - 0s 3ms/step - loss: 0.5498 - accuracy: 0.7530 - val_loss: 0.7726 - val_accuracy: 0.5691\n",
      "Epoch 90/100\n",
      "8/8 [==============================] - 0s 3ms/step - loss: 0.6014 - accuracy: 0.6954 - val_loss: 0.7957 - val_accuracy: 0.5772\n",
      "Epoch 91/100\n",
      "8/8 [==============================] - 0s 3ms/step - loss: 0.6156 - accuracy: 0.6823 - val_loss: 0.9316 - val_accuracy: 0.5691\n",
      "Epoch 92/100\n",
      "8/8 [==============================] - 0s 3ms/step - loss: 0.5666 - accuracy: 0.7206 - val_loss: 0.8163 - val_accuracy: 0.6179\n",
      "Epoch 93/100\n",
      "8/8 [==============================] - 0s 3ms/step - loss: 0.5762 - accuracy: 0.7239 - val_loss: 0.8368 - val_accuracy: 0.6098\n",
      "Epoch 94/100\n",
      "8/8 [==============================] - 0s 3ms/step - loss: 0.5639 - accuracy: 0.7297 - val_loss: 0.8159 - val_accuracy: 0.6260\n",
      "Epoch 95/100\n",
      "8/8 [==============================] - 0s 3ms/step - loss: 0.5574 - accuracy: 0.7269 - val_loss: 0.7619 - val_accuracy: 0.5691\n",
      "Epoch 96/100\n",
      "8/8 [==============================] - 0s 3ms/step - loss: 0.5919 - accuracy: 0.7148 - val_loss: 0.8349 - val_accuracy: 0.6179\n",
      "Epoch 97/100\n",
      "8/8 [==============================] - 0s 3ms/step - loss: 0.5324 - accuracy: 0.7544 - val_loss: 0.7732 - val_accuracy: 0.5772\n",
      "Epoch 98/100\n",
      "8/8 [==============================] - 0s 3ms/step - loss: 0.5220 - accuracy: 0.7683 - val_loss: 0.7938 - val_accuracy: 0.6179\n",
      "Epoch 99/100\n",
      "8/8 [==============================] - 0s 3ms/step - loss: 0.5300 - accuracy: 0.7395 - val_loss: 0.8480 - val_accuracy: 0.6179\n",
      "Epoch 100/100\n",
      "8/8 [==============================] - 0s 3ms/step - loss: 0.5632 - accuracy: 0.7548 - val_loss: 0.8644 - val_accuracy: 0.6179\n",
      "\n",
      "Trianing Duration: 0.0 hours 0.0 minutes and 14.94 seconds.\n"
     ]
    }
   ],
   "source": [
    "start_time=training_time(None)\n",
    "\n",
    "history = model.fit(\n",
    "    X_train, y_train, \n",
    "     validation_data=(X_val, y_val),\n",
    "    epochs=100, batch_size=64)\n",
    "\n",
    "training_time(start_time)"
   ]
  },
  {
   "cell_type": "markdown",
   "metadata": {},
   "source": [
    "# 4. Model Evaluation"
   ]
  },
  {
   "cell_type": "code",
   "execution_count": 15,
   "metadata": {},
   "outputs": [
    {
     "name": "stdout",
     "output_type": "stream",
     "text": [
      "dict_keys(['loss', 'accuracy', 'val_loss', 'val_accuracy'])\n"
     ]
    }
   ],
   "source": [
    "\n",
    "# list all data in history\n",
    "print(history.history.keys())"
   ]
  },
  {
   "cell_type": "markdown",
   "metadata": {},
   "source": [
    "## 4.1. Accuracy and Loss"
   ]
  },
  {
   "cell_type": "code",
   "execution_count": 16,
   "metadata": {},
   "outputs": [],
   "source": [
    "def model_loss_acc(model, X_train, y_train, X_test, y_test):\n",
    "    score_train = model.evaluate(X_train, y_train,  verbose=0)\n",
    "    score_test  = model.evaluate(X_test, y_test,  verbose=0)\n",
    "    train_acc = round(score_train[1]*100, 2)\n",
    "    test_acc = round(score_test[1]*100, 2)\n",
    "    train_loss = round(score_train[0]*100, 2)\n",
    "    test_loss = round(score_test[0]*100, 2)\n",
    "    gen = 100 - test_acc\n",
    "    return pd.DataFrame({'Accuracy':[train_acc, test_acc], \n",
    "                  'Loss':[train_loss, test_loss]\n",
    "                 }, index=['Training', 'Validation'])"
   ]
  },
  {
   "cell_type": "code",
   "execution_count": 17,
   "metadata": {},
   "outputs": [
    {
     "data": {
      "text/html": [
       "<div>\n",
       "<style scoped>\n",
       "    .dataframe tbody tr th:only-of-type {\n",
       "        vertical-align: middle;\n",
       "    }\n",
       "\n",
       "    .dataframe tbody tr th {\n",
       "        vertical-align: top;\n",
       "    }\n",
       "\n",
       "    .dataframe thead th {\n",
       "        text-align: right;\n",
       "    }\n",
       "</style>\n",
       "<table border=\"1\" class=\"dataframe\">\n",
       "  <thead>\n",
       "    <tr style=\"text-align: right;\">\n",
       "      <th></th>\n",
       "      <th>Accuracy</th>\n",
       "      <th>Loss</th>\n",
       "    </tr>\n",
       "  </thead>\n",
       "  <tbody>\n",
       "    <tr>\n",
       "      <th>Training</th>\n",
       "      <td>74.54</td>\n",
       "      <td>55.19</td>\n",
       "    </tr>\n",
       "    <tr>\n",
       "      <th>Validation</th>\n",
       "      <td>73.38</td>\n",
       "      <td>60.23</td>\n",
       "    </tr>\n",
       "  </tbody>\n",
       "</table>\n",
       "</div>"
      ],
      "text/plain": [
       "            Accuracy   Loss\n",
       "Training       74.54  55.19\n",
       "Validation     73.38  60.23"
      ]
     },
     "execution_count": 17,
     "metadata": {},
     "output_type": "execute_result"
    }
   ],
   "source": [
    "model_loss_acc(model, X_train, y_train, X_test, y_test)"
   ]
  },
  {
   "cell_type": "markdown",
   "metadata": {},
   "source": [
    "+ The accuracy is 91.85% and 78.57% on the training set and testing set respectively. \n",
    "+ **Meaning :** Our model is able to predict with ~80% accuracy whether that patient will develop diabetes within the next five years.\n",
    "\n",
    "+ **Overfitting or Underfitting :**\n",
    "> a"
   ]
  },
  {
   "cell_type": "markdown",
   "metadata": {},
   "source": [
    "+ The remaining 19 predictions are false negatives and 14 other predictions are false positives, which are undesirable.\n",
    "\n",
    "+ For diabetes prediction, a false negative is perhaps more damaging than a false positive. \n",
    "\n",
    "+ A false negative means telling the patient that they will not develop diabetes within the next five years, when in fact they would. \n",
    "\n",
    "+ Therefore, when we evaluate the performance of different models for predicting the onset of diabetes, a model with a lower false negative is more desirable."
   ]
  },
  {
   "cell_type": "markdown",
   "metadata": {},
   "source": [
    "## 4.2. Learning Curve"
   ]
  },
  {
   "cell_type": "code",
   "execution_count": 19,
   "metadata": {},
   "outputs": [
    {
     "data": {
      "image/png": "[encoded data removed]",
      "text/plain": [
       "<Figure size 1440x1080 with 2 Axes>"
      ]
     },
     "metadata": {
      "needs_background": "light"
     },
     "output_type": "display_data"
    }
   ],
   "source": [
    "import matplotlib.pyplot as plt\n",
    "\n",
    "plt.figure(figsize=(20,15))\n",
    "plt.subplot(2,2,1)\n",
    "line1=plt.plot(history.history['accuracy'])\n",
    "line2=plt.plot(history.history['val_accuracy'])\n",
    "plt.title('model accuracy')\n",
    "plt.ylabel('accuracy')\n",
    "plt.xlabel('epoch')\n",
    "plt.setp(line1, linewidth=2.0, marker = '+', markersize=10.0)\n",
    "plt.setp(line2, linewidth=2.0, marker = '4', markersize=10.0)\n",
    "plt.legend(['training', 'Validation'], loc='upper left')\n",
    "#plt.show()\n",
    "\n",
    "plt.subplot(2,2,2)\n",
    "line1=plt.plot(history.history['loss'])\n",
    "line2=plt.plot(history.history['val_loss'])\n",
    "plt.title('model loss')\n",
    "plt.ylabel('loss')\n",
    "plt.xlabel('epoch')\n",
    "plt.setp(line1, linewidth=2.0, marker = '+', markersize=10.0)\n",
    "plt.setp(line2, linewidth=2.0, marker = '4', markersize=10.0)\n",
    "plt.legend(['Training', 'Validation'], loc='upper left')\n",
    "plt.savefig('../figures/nn_learning_curve.png', bbox_inches='tight')\n",
    "#plt.show()"
   ]
  },
  {
   "cell_type": "markdown",
   "metadata": {},
   "source": [
    "##  4.3. ROC and Precision recall curve\n",
    "\n",
    "> A large AUC indicates that the model is able to differentiate the respective classes with high accuracy, while a low AUC indicates that the model makes poor, often wrong predictions. This shows that our model is able to differentiate samples of different classes, making good predictions."
   ]
  },
  {
   "cell_type": "code",
   "execution_count": 20,
   "metadata": {
    "scrolled": true
   },
   "outputs": [
    {
     "name": "stdout",
     "output_type": "stream",
     "text": [
      "0.4007527409589265 0.6466165413533834\n"
     ]
    },
    {
     "data": {
      "image/png": "[encoded data removed]",
      "text/plain": [
       "<Figure size 432x288 with 1 Axes>"
      ]
     },
     "metadata": {
      "needs_background": "light"
     },
     "output_type": "display_data"
    }
   ],
   "source": [
    "from sklearn.metrics import roc_curve\n",
    "import matplotlib.pyplot as plt\n",
    "y_test_pred_probs = model.predict(X_test)\n",
    "FPR, TPR, _ = roc_curve(y_test, y_test_pred_probs)\n",
    "print(FPR.mean(), TPR.mean())\n",
    "\n",
    "plt.plot(FPR, TPR)\n",
    "plt.plot([0,1],[0,1],'--', color='black') #diagonal line\n",
    "plt.title('ROC Curve')\n",
    "plt.xlabel('False Positive Rate')\n",
    "plt.ylabel('True Positive Rate')\n",
    "plt.savefig('../figures/nn_roc_curve.png', bbox_inches='tight')"
   ]
  },
  {
   "cell_type": "markdown",
   "metadata": {},
   "source": [
    "# 5. Prediction\n",
    "+ Use testing set to make prediction"
   ]
  },
  {
   "cell_type": "markdown",
   "metadata": {},
   "source": [
    "## 5.1. Confusion Matrix"
   ]
  },
  {
   "cell_type": "code",
   "execution_count": 21,
   "metadata": {},
   "outputs": [],
   "source": [
    "from sklearn.metrics import accuracy_score\n",
    "def pred_acc(model, X_test, y_test):\n",
    "    pred =  np.argmax(model.predict(X_test), axis=-1)\n",
    "    a = accuracy_score(pred,y_test)\n",
    "    print('Prediction Accuracy is:', round(a*100, 2))"
   ]
  },
  {
   "cell_type": "code",
   "execution_count": 22,
   "metadata": {},
   "outputs": [
    {
     "name": "stdout",
     "output_type": "stream",
     "text": [
      "Prediction Accuracy is: 62.99\n"
     ]
    }
   ],
   "source": [
    "pred_acc(model, X_test, y_test)"
   ]
  },
  {
   "cell_type": "markdown",
   "metadata": {},
   "source": [
    "## => Is model overfit with test set ? "
   ]
  },
  {
   "cell_type": "markdown",
   "metadata": {},
   "source": [
    "+ We get training accuracy **75.90%** of and testing accuracy of **63.64%**\n",
    "+ **Meaning :**"
   ]
  },
  {
   "cell_type": "markdown",
   "metadata": {},
   "source": [
    "## 5.2. Confusion Matrix"
   ]
  },
  {
   "cell_type": "code",
   "execution_count": null,
   "metadata": {},
   "outputs": [],
   "source": []
  },
  {
   "cell_type": "markdown",
   "metadata": {},
   "source": [
    "## 5.3. Model’s performance on test data in each epoch\n",
    "> We can use test data as validation data and can check the accuracies after every epoch. This will give us an insight into overfitting at the time of training only and we can take steps before the completion of all epochs."
   ]
  },
  {
   "cell_type": "code",
   "execution_count": 23,
   "metadata": {},
   "outputs": [
    {
     "data": {
      "text/plain": [
       "'history = model.fit(X_train, y_train,\\n                    validation_data = (X_test,y_test), \\n                    epochs=100, \\n                    batch_size=64)'"
      ]
     },
     "execution_count": 23,
     "metadata": {},
     "output_type": "execute_result"
    }
   ],
   "source": [
    "'''history = model.fit(X_train, y_train,\n",
    "                    validation_data = (X_test,y_test), \n",
    "                    epochs=100, \n",
    "                    batch_size=64)'''"
   ]
  },
  {
   "cell_type": "code",
   "execution_count": 24,
   "metadata": {},
   "outputs": [],
   "source": [
    "import random\n",
    "def predict(n_row, model):\n",
    "    features = X_test[:n_row]\n",
    "    target = y_test[:n_row]\n",
    "    pred_ = model.predict(features)\n",
    "    pred =[]\n",
    "    for i in range(len(pred_)):\n",
    "        pred.append(np.argmax(pred_[i]))\n",
    "    result = pd.DataFrame({'True':target, \"predicted\":pred})\n",
    "    # update : select randomly\n",
    "    return result"
   ]
  },
  {
   "cell_type": "code",
   "execution_count": 25,
   "metadata": {},
   "outputs": [
    {
     "data": {
      "text/html": [
       "<div>\n",
       "<style scoped>\n",
       "    .dataframe tbody tr th:only-of-type {\n",
       "        vertical-align: middle;\n",
       "    }\n",
       "\n",
       "    .dataframe tbody tr th {\n",
       "        vertical-align: top;\n",
       "    }\n",
       "\n",
       "    .dataframe thead th {\n",
       "        text-align: right;\n",
       "    }\n",
       "</style>\n",
       "<table border=\"1\" class=\"dataframe\">\n",
       "  <thead>\n",
       "    <tr style=\"text-align: right;\">\n",
       "      <th></th>\n",
       "      <th>568</th>\n",
       "      <th>248</th>\n",
       "      <th>50</th>\n",
       "      <th>555</th>\n",
       "      <th>615</th>\n",
       "      <th>722</th>\n",
       "      <th>85</th>\n",
       "      <th>558</th>\n",
       "      <th>376</th>\n",
       "      <th>266</th>\n",
       "    </tr>\n",
       "  </thead>\n",
       "  <tbody>\n",
       "    <tr>\n",
       "      <th>True</th>\n",
       "      <td>0</td>\n",
       "      <td>0</td>\n",
       "      <td>0</td>\n",
       "      <td>0</td>\n",
       "      <td>0</td>\n",
       "      <td>1</td>\n",
       "      <td>0</td>\n",
       "      <td>0</td>\n",
       "      <td>0</td>\n",
       "      <td>1</td>\n",
       "    </tr>\n",
       "    <tr>\n",
       "      <th>predicted</th>\n",
       "      <td>0</td>\n",
       "      <td>0</td>\n",
       "      <td>0</td>\n",
       "      <td>0</td>\n",
       "      <td>0</td>\n",
       "      <td>0</td>\n",
       "      <td>0</td>\n",
       "      <td>0</td>\n",
       "      <td>0</td>\n",
       "      <td>0</td>\n",
       "    </tr>\n",
       "  </tbody>\n",
       "</table>\n",
       "</div>"
      ],
      "text/plain": [
       "           568  248  50   555  615  722  85   558  376  266\n",
       "True         0    0    0    0    0    1    0    0    0    1\n",
       "predicted    0    0    0    0    0    0    0    0    0    0"
      ]
     },
     "execution_count": 25,
     "metadata": {},
     "output_type": "execute_result"
    }
   ],
   "source": [
    "# Predict on the first 5 test images.\n",
    "predict(10, model).T"
   ]
  },
  {
   "cell_type": "markdown",
   "metadata": {},
   "source": [
    "# 6. Save Model"
   ]
  },
  {
   "cell_type": "code",
   "execution_count": 26,
   "metadata": {},
   "outputs": [
    {
     "name": "stdout",
     "output_type": "stream",
     "text": [
      "Model saved .... \n"
     ]
    }
   ],
   "source": [
    "filename = '../models/dl_diab_model'+'.h5'\n",
    "model.save(filename)\n",
    "print(\"Model saved .... \")"
   ]
  },
  {
   "cell_type": "markdown",
   "metadata": {},
   "source": [
    "# 7. Deployment"
   ]
  },
  {
   "cell_type": "code",
   "execution_count": 27,
   "metadata": {},
   "outputs": [
    {
     "name": "stdout",
     "output_type": "stream",
     "text": [
      "Model Loaded .... \n"
     ]
    }
   ],
   "source": [
    "# Load the model from disk later using:\n",
    "from keras.models import load_model\n",
    "loaded_model = load_model('../models/dl_diab_model.h5')\n",
    "print(\"Model Loaded .... \")"
   ]
  },
  {
   "cell_type": "markdown",
   "metadata": {},
   "source": [
    "## 7.1. Insert Features line by line"
   ]
  },
  {
   "cell_type": "code",
   "execution_count": 28,
   "metadata": {},
   "outputs": [
    {
     "name": "stdout",
     "output_type": "stream",
     "text": [
      "============WELCOME TO=============\n",
      "        Diabetes Prediction     \n",
      "===================================\n",
      " \n",
      "Please Enter Predictor variables\n",
      "--------------------------------\n",
      "Enter Pregnancies : 6\n",
      "Enter Glucose  : 6\n",
      "Enter BloodPressure : 3\n",
      "Enter SkinThickness  : 3\n",
      "Enter Insulin : 3\n",
      "Enter BMI  : 2\n",
      "Enter DiabetesPedigreeFunction : 5\n",
      "Enter Age  : 5\n",
      "--------------------------------\n",
      "\n",
      "===================================\n",
      "Result : This Patient is Prediabetic\n",
      "============THANK YOU=============\n"
     ]
    }
   ],
   "source": [
    "prediction(loaded_model) "
   ]
  },
  {
   "cell_type": "markdown",
   "metadata": {},
   "source": [
    "## 7.2. Insert Feature as a list\n",
    "\n",
    "> ['Pregnancies', 'Glucose', 'BloodPressure', 'SkinThickness', 'Insulin', 'BMI',  'DiabetesPedigreeFunction', 'Age']"
   ]
  },
  {
   "cell_type": "code",
   "execution_count": 29,
   "metadata": {},
   "outputs": [
    {
     "name": "stdout",
     "output_type": "stream",
     "text": [
      "This Patient is Prediabetic\n"
     ]
    }
   ],
   "source": [
    "features = [1, 126, 60, 0, 0, 30.1, 0.349, 47]\n",
    "prediction2(loaded_model, features)"
   ]
  },
  {
   "cell_type": "markdown",
   "metadata": {},
   "source": [
    "## 7.3. Real world Deployement"
   ]
  },
  {
   "cell_type": "markdown",
   "metadata": {},
   "source": [
    "For real world use the model trained in this project we be deploy as :\n",
    "* **Web app** with flask, streamlit and Django framework\n",
    "* **Docker container**\n",
    "* **API**"
   ]
  },
  {
   "cell_type": "code",
   "execution_count": null,
   "metadata": {},
   "outputs": [],
   "source": [
    "###############################################################\n",
    "###############################################################"
   ]
  },
  {
   "cell_type": "markdown",
   "metadata": {},
   "source": [
    "## 7. Further improvements"
   ]
  },
  {
   "cell_type": "markdown",
   "metadata": {},
   "source": [
    "+ In general, any limitation in performance is usually due to the lack of strong features in the dataset, rather than the complexity of the neural network used.\n",
    "\n",
    "+ One way to increase the number of features we provide to the model is via feature engineering. \n",
    "\n",
    "+ **Feature engineering** is the process of using one's domain knowledge of the problem to create new features for the machine learning algorithm. \n",
    "\n",
    "+ **feature selection**. Feature selection is used when we believe that the original dataset contains too much noise, and removing the noisy features or unimportant features (features that are not strong predictors) may improve model performance. \n",
    "\n",
    "+ Both method Feature engineering and feature selection can affect the performance of our model by adding noise or remove important features.\n",
    "\n",
    "+ One popular way to do feature selection is to use decision trees."
   ]
  },
  {
   "cell_type": "code",
   "execution_count": null,
   "metadata": {},
   "outputs": [],
   "source": []
  }
 ],
 "metadata": {
  "kernelspec": {
   "display_name": "p01ml_kernel",
   "language": "python",
   "name": "p01ml_venv"
  },
  "language_info": {
   "codemirror_mode": {
    "name": "ipython",
    "version": 3
   },
   "file_extension": ".py",
   "mimetype": "text/x-python",
   "name": "python",
   "nbconvert_exporter": "python",
   "pygments_lexer": "ipython3",
   "version": "3.7.0"
  }
 },
 "nbformat": 4,
 "nbformat_minor": 4
}
